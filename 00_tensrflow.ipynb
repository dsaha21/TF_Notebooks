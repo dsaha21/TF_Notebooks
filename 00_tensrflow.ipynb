{
  "cells": [
    {
      "cell_type": "markdown",
      "metadata": {
        "colab_type": "text",
        "id": "view-in-github"
      },
      "source": [
        "<a href=\"https://colab.research.google.com/github/dsaha21/TF_Notebooks/blob/main/00_tensrflow.ipynb\" target=\"_parent\"><img src=\"https://colab.research.google.com/assets/colab-badge.svg\" alt=\"Open In Colab\"/></a>"
      ]
    },
    {
      "cell_type": "code",
      "execution_count": null,
      "metadata": {
        "colab": {
          "base_uri": "https://localhost:8080/"
        },
        "id": "ZCvhRt7OmvtC",
        "outputId": "e3d2b7bd-f47f-4729-fd9b-57675c708233"
      },
      "outputs": [
        {
          "name": "stdout",
          "output_type": "stream",
          "text": [
            "The value of 12 + 13 is -->25\n"
          ]
        }
      ],
      "source": [
        "print(f\"The value of 12 + 13 is -->{(12+13)}\")"
      ]
    },
    {
      "cell_type": "code",
      "execution_count": null,
      "metadata": {
        "id": "DKM2yt-nnJsP"
      },
      "outputs": [],
      "source": []
    },
    {
      "cell_type": "markdown",
      "metadata": {
        "id": "J_w7UGmvoul3"
      },
      "source": [
        "Lets start below : \n"
      ]
    },
    {
      "cell_type": "code",
      "execution_count": null,
      "metadata": {
        "colab": {
          "base_uri": "https://localhost:8080/"
        },
        "id": "fzjQEMvdo1QB",
        "outputId": "fc59dab7-c0af-4418-f41e-480158c34e61"
      },
      "outputs": [
        {
          "name": "stdout",
          "output_type": "stream",
          "text": [
            "2.8.0\n"
          ]
        }
      ],
      "source": [
        "import tensorflow as tf\n",
        "print(tf.__version__)"
      ]
    },
    {
      "cell_type": "code",
      "execution_count": null,
      "metadata": {
        "colab": {
          "base_uri": "https://localhost:8080/"
        },
        "id": "WXV_6eW2o3AC",
        "outputId": "8a778ac5-a164-40d8-dd48-98624feff76d"
      },
      "outputs": [
        {
          "data": {
            "text/plain": [
              "<tf.Tensor: shape=(), dtype=int32, numpy=7>"
            ]
          },
          "execution_count": 4,
          "metadata": {},
          "output_type": "execute_result"
        }
      ],
      "source": [
        "#Check no. tensor dimension\n",
        "scalar=tf.constant(7)\n",
        "scalar"
      ]
    },
    {
      "cell_type": "code",
      "execution_count": null,
      "metadata": {
        "colab": {
          "base_uri": "https://localhost:8080/"
        },
        "id": "UzbERdyto3Vg",
        "outputId": "8e7937c3-b753-40ca-af54-112f74a362be"
      },
      "outputs": [
        {
          "data": {
            "text/plain": [
              "<tf.Tensor: shape=(3,), dtype=int32, numpy=array([10, 10, 10], dtype=int32)>"
            ]
          },
          "execution_count": 6,
          "metadata": {},
          "output_type": "execute_result"
        }
      ],
      "source": [
        "vec=tf.constant([10,10,10])\n",
        "vec"
      ]
    },
    {
      "cell_type": "code",
      "execution_count": null,
      "metadata": {
        "colab": {
          "base_uri": "https://localhost:8080/"
        },
        "id": "s5sr1Gafpla6",
        "outputId": "3f31f49a-14c8-4bd4-dc52-9b3e14c5d9c5"
      },
      "outputs": [
        {
          "data": {
            "text/plain": [
              "1"
            ]
          },
          "execution_count": 7,
          "metadata": {},
          "output_type": "execute_result"
        }
      ],
      "source": [
        "vec.ndim"
      ]
    },
    {
      "cell_type": "code",
      "execution_count": null,
      "metadata": {
        "colab": {
          "base_uri": "https://localhost:8080/"
        },
        "id": "sneICnQ0rnRo",
        "outputId": "3d142835-f4ae-4ddb-9a67-2be7609aa3ab"
      },
      "outputs": [
        {
          "data": {
            "text/plain": [
              "<tf.Tensor: shape=(3, 2), dtype=float16, numpy=\n",
              "array([[10.,  7.],\n",
              "       [ 7., 10.],\n",
              "       [ 4.,  9.]], dtype=float16)>"
            ]
          },
          "execution_count": 12,
          "metadata": {},
          "output_type": "execute_result"
        }
      ],
      "source": [
        "mat=tf.constant([[10.,7.],[7.,10.],[4.,9.]],dtype=tf.float16)\n",
        "mat"
      ]
    },
    {
      "cell_type": "code",
      "execution_count": null,
      "metadata": {
        "colab": {
          "base_uri": "https://localhost:8080/"
        },
        "id": "6974ZqdRr3Om",
        "outputId": "95b9c457-2ac5-4a59-f9a2-bc33a5bad847"
      },
      "outputs": [
        {
          "name": "stdout",
          "output_type": "stream",
          "text": [
            "2\n"
          ]
        }
      ],
      "source": [
        "print(mat.ndim)"
      ]
    },
    {
      "cell_type": "code",
      "execution_count": null,
      "metadata": {
        "colab": {
          "base_uri": "https://localhost:8080/"
        },
        "id": "dyHByxlhsCh9",
        "outputId": "6cf3c729-7761-4361-d339-50fdb158ec85"
      },
      "outputs": [
        {
          "data": {
            "text/plain": [
              "<tf.Tensor: shape=(3, 2, 3), dtype=int32, numpy=\n",
              "array([[[ 1,  2,  3],\n",
              "        [ 4,  5,  6]],\n",
              "\n",
              "       [[10, 20, 30],\n",
              "        [40, 50, 60]],\n",
              "\n",
              "       [[11, 22, 33],\n",
              "        [44, 55, 66]]], dtype=int32)>"
            ]
          },
          "execution_count": 14,
          "metadata": {},
          "output_type": "execute_result"
        }
      ],
      "source": [
        "#So scalar-->1 dim\n",
        "# vec --> 2 dim\n",
        "# scalar --> ? dim \n",
        "\n",
        "tensor=tf.constant([[[1,2,3],[4,5,6]],[[10,20,30],[40,50,60]],[[11,22,33],[44,55,66]]])\n",
        "tensor"
      ]
    },
    {
      "cell_type": "code",
      "execution_count": null,
      "metadata": {
        "colab": {
          "base_uri": "https://localhost:8080/"
        },
        "id": "KDCdIHvOti_4",
        "outputId": "ddb35796-db8b-4168-96a3-f44730be3e6f"
      },
      "outputs": [
        {
          "data": {
            "text/plain": [
              "(<tf.Variable 'Variable:0' shape=(2,) dtype=int32, numpy=array([10,  7], dtype=int32)>,\n",
              " <tf.Tensor: shape=(2,), dtype=int32, numpy=array([10,  7], dtype=int32)>)"
            ]
          },
          "execution_count": 15,
          "metadata": {},
          "output_type": "execute_result"
        }
      ],
      "source": [
        "change_tensor=tf.Variable([10,7])\n",
        "unchange_tensor=tf.constant([10,7])\n",
        "change_tensor, unchange_tensor"
      ]
    },
    {
      "cell_type": "code",
      "execution_count": null,
      "metadata": {
        "colab": {
          "base_uri": "https://localhost:8080/"
        },
        "id": "Taq9cL5q0vkh",
        "outputId": "a4eeaad5-eecb-4d85-c837-b39f5972498b"
      },
      "outputs": [
        {
          "data": {
            "text/plain": [
              "<tf.Variable 'Variable:0' shape=(2,) dtype=int32, numpy=array([7, 7], dtype=int32)>"
            ]
          },
          "execution_count": 16,
          "metadata": {},
          "output_type": "execute_result"
        }
      ],
      "source": [
        "change_tensor[0].assign(7)\n",
        "change_tensor"
      ]
    },
    {
      "cell_type": "code",
      "execution_count": null,
      "metadata": {
        "colab": {
          "base_uri": "https://localhost:8080/",
          "height": 305
        },
        "id": "ci0TUl-Z3ys1",
        "outputId": "298a2a16-c02b-4637-8ccf-c728d49dcdf2"
      },
      "outputs": [
        {
          "ename": "AttributeError",
          "evalue": "ignored",
          "output_type": "error",
          "traceback": [
            "\u001b[0;31m---------------------------------------------------------------------------\u001b[0m",
            "\u001b[0;31mAttributeError\u001b[0m                            Traceback (most recent call last)",
            "\u001b[0;32m<ipython-input-17-dc9f9c9ae51a>\u001b[0m in \u001b[0;36m<module>\u001b[0;34m()\u001b[0m\n\u001b[1;32m      1\u001b[0m \u001b[0;31m#for unchangeable tensor\u001b[0m\u001b[0;34m\u001b[0m\u001b[0;34m\u001b[0m\u001b[0;34m\u001b[0m\u001b[0m\n\u001b[0;32m----> 2\u001b[0;31m \u001b[0munchange_tensor\u001b[0m\u001b[0;34m[\u001b[0m\u001b[0;36m0\u001b[0m\u001b[0;34m]\u001b[0m\u001b[0;34m.\u001b[0m\u001b[0massign\u001b[0m\u001b[0;34m(\u001b[0m\u001b[0;36m7\u001b[0m\u001b[0;34m)\u001b[0m\u001b[0;34m\u001b[0m\u001b[0;34m\u001b[0m\u001b[0m\n\u001b[0m",
            "\u001b[0;32m/usr/local/lib/python3.7/dist-packages/tensorflow/python/framework/ops.py\u001b[0m in \u001b[0;36m__getattr__\u001b[0;34m(self, name)\u001b[0m\n\u001b[1;32m    511\u001b[0m         \u001b[0;32mfrom\u001b[0m \u001b[0mtensorflow\u001b[0m\u001b[0;34m.\u001b[0m\u001b[0mpython\u001b[0m\u001b[0;34m.\u001b[0m\u001b[0mops\u001b[0m\u001b[0;34m.\u001b[0m\u001b[0mnumpy_ops\u001b[0m \u001b[0;32mimport\u001b[0m \u001b[0mnp_config\u001b[0m\u001b[0;34m\u001b[0m\u001b[0;34m\u001b[0m\u001b[0m\n\u001b[1;32m    512\u001b[0m         np_config.enable_numpy_behavior()\"\"\".format(type(self).__name__, name))\n\u001b[0;32m--> 513\u001b[0;31m     \u001b[0mself\u001b[0m\u001b[0;34m.\u001b[0m\u001b[0m__getattribute__\u001b[0m\u001b[0;34m(\u001b[0m\u001b[0mname\u001b[0m\u001b[0;34m)\u001b[0m\u001b[0;34m\u001b[0m\u001b[0;34m\u001b[0m\u001b[0m\n\u001b[0m\u001b[1;32m    514\u001b[0m \u001b[0;34m\u001b[0m\u001b[0m\n\u001b[1;32m    515\u001b[0m   \u001b[0;34m@\u001b[0m\u001b[0mstaticmethod\u001b[0m\u001b[0;34m\u001b[0m\u001b[0;34m\u001b[0m\u001b[0m\n",
            "\u001b[0;31mAttributeError\u001b[0m: 'tensorflow.python.framework.ops.EagerTensor' object has no attribute 'assign'"
          ]
        }
      ],
      "source": [
        "#for unchangeable tensor\n",
        "#unchange_tensor[0].assign(7)"
      ]
    },
    {
      "cell_type": "code",
      "execution_count": null,
      "metadata": {
        "id": "p_KlmSC44Ley"
      },
      "outputs": [],
      "source": []
    },
    {
      "cell_type": "markdown",
      "metadata": {
        "id": "PabftFHDmjI2"
      },
      "source": [
        "###**Random** **tensors** "
      ]
    },
    {
      "cell_type": "code",
      "execution_count": null,
      "metadata": {
        "colab": {
          "base_uri": "https://localhost:8080/"
        },
        "id": "oICqgwJ7htYj",
        "outputId": "40003204-e05a-418c-e915-7ada0c2f388d"
      },
      "outputs": [
        {
          "data": {
            "text/plain": [
              "(<tf.Tensor: shape=(3, 2), dtype=float32, numpy=\n",
              " array([[-0.7565803 , -0.06854702],\n",
              "        [ 0.07595026, -1.2573844 ],\n",
              "        [-0.23193763, -1.8107855 ]], dtype=float32)>,\n",
              " <tf.Tensor: shape=(3, 2), dtype=float32, numpy=\n",
              " array([[-0.7565803 , -0.06854702],\n",
              "        [ 0.07595026, -1.2573844 ],\n",
              "        [-0.23193763, -1.8107855 ]], dtype=float32)>,\n",
              " <tf.Tensor: shape=(3, 2), dtype=bool, numpy=\n",
              " array([[ True,  True],\n",
              "        [ True,  True],\n",
              "        [ True,  True]])>)"
            ]
          },
          "execution_count": 8,
          "metadata": {},
          "output_type": "execute_result"
        }
      ],
      "source": [
        "#Why random tensors? \n",
        "#--> First initialisation\n",
        "\n",
        "#Create random tf\n",
        "r1=tf.random.Generator.from_seed(42) #setting seed\n",
        "r1=r1.normal(shape=(3,2))\n",
        "r2=tf.random.Generator.from_seed(42) #setting seed\n",
        "r2=r2.normal(shape=(3,2))\n",
        "\n",
        "r1,r2,r1==r2"
      ]
    },
    {
      "cell_type": "code",
      "execution_count": null,
      "metadata": {
        "colab": {
          "base_uri": "https://localhost:8080/"
        },
        "id": "ErF1-zXjhtmx",
        "outputId": "d40cda39-d057-4cc8-8435-2f6ab3871203"
      },
      "outputs": [
        {
          "data": {
            "text/plain": [
              "<tf.Tensor: shape=(3, 2), dtype=int32, numpy=\n",
              "array([[5, 6],\n",
              "       [3, 4],\n",
              "       [1, 2]], dtype=int32)>"
            ]
          },
          "execution_count": 11,
          "metadata": {},
          "output_type": "execute_result"
        }
      ],
      "source": [
        "not_shuff=tf.constant([[1,2],[3,4],[5,6]])\n",
        "#not_shuff\n",
        "tf.random.shuffle(not_shuff,seed=42)"
      ]
    },
    {
      "cell_type": "code",
      "execution_count": null,
      "metadata": {
        "colab": {
          "base_uri": "https://localhost:8080/"
        },
        "id": "bZxjQ-yZhtyf",
        "outputId": "cf29ecf8-9686-42df-e952-dabd2bcc7d1f"
      },
      "outputs": [
        {
          "data": {
            "text/plain": [
              "<tf.Tensor: shape=(3, 2), dtype=int32, numpy=\n",
              "array([[3, 4],\n",
              "       [5, 6],\n",
              "       [1, 2]], dtype=int32)>"
            ]
          },
          "execution_count": 16,
          "metadata": {},
          "output_type": "execute_result"
        }
      ],
      "source": [
        "tf.random.shuffle(not_shuff,seed=42)"
      ]
    },
    {
      "cell_type": "code",
      "execution_count": null,
      "metadata": {
        "id": "kRyESSsz5pM2"
      },
      "outputs": [],
      "source": []
    },
    {
      "cell_type": "markdown",
      "metadata": {
        "id": "tdTcJXZn8Jom"
      },
      "source": [
        "###**Numpy** **Array** --> 20/5/22"
      ]
    },
    {
      "cell_type": "code",
      "execution_count": null,
      "metadata": {
        "colab": {
          "base_uri": "https://localhost:8080/"
        },
        "id": "L3wmwrgK1BRp",
        "outputId": "d31bcdab-5b75-4157-d1dd-a0931a78716b"
      },
      "outputs": [
        {
          "data": {
            "text/plain": [
              "<tf.Tensor: shape=(3, 4), dtype=float32, numpy=\n",
              "array([[0., 0., 0., 0.],\n",
              "       [0., 0., 0., 0.],\n",
              "       [0., 0., 0., 0.]], dtype=float32)>"
            ]
          },
          "execution_count": 6,
          "metadata": {},
          "output_type": "execute_result"
        }
      ],
      "source": [
        "#tf.ones([10,7])\n",
        "tf.zeros([3,4])\n",
        "# print(\"============\")\n",
        "# tf.zeros(shape=(3,4))"
      ]
    },
    {
      "cell_type": "code",
      "execution_count": null,
      "metadata": {
        "colab": {
          "base_uri": "https://localhost:8080/"
        },
        "id": "slEgHaD_937J",
        "outputId": "f6191df2-f51a-46fd-fc02-0a380e602ace"
      },
      "outputs": [
        {
          "data": {
            "text/plain": [
              "array([ 1,  2,  3,  4,  5,  6,  7,  8,  9, 10, 11, 12, 13, 14, 15, 16, 17,\n",
              "       18, 19, 20, 21, 22, 23, 24], dtype=int32)"
            ]
          },
          "execution_count": 3,
          "metadata": {},
          "output_type": "execute_result"
        }
      ],
      "source": [
        "import numpy as n \n",
        "nA = n.arange(1,25,dtype=n.int32)\n",
        "nA"
      ]
    },
    {
      "cell_type": "code",
      "execution_count": null,
      "metadata": {
        "colab": {
          "base_uri": "https://localhost:8080/"
        },
        "id": "4-8VqX2ZIion",
        "outputId": "4456902b-8d7f-4aab-a563-8bcb22614b14"
      },
      "outputs": [
        {
          "data": {
            "text/plain": [
              "4"
            ]
          },
          "execution_count": 20,
          "metadata": {},
          "output_type": "execute_result"
        }
      ],
      "source": [
        "#A=tf.constant(nA)\n",
        "#A\n",
        "A=tf.constant(nA,shape=(2,2,3,2))\n",
        "B=tf.constant(nA)\n",
        "A.ndim"
      ]
    },
    {
      "cell_type": "code",
      "execution_count": null,
      "metadata": {
        "id": "ii7FqYd5dN5s"
      },
      "outputs": [],
      "source": []
    },
    {
      "cell_type": "markdown",
      "metadata": {
        "id": "XI8qePgolNFq"
      },
      "source": [
        "###Getting Info From Tensors --> 21/5/22"
      ]
    },
    {
      "cell_type": "code",
      "execution_count": null,
      "metadata": {
        "id": "WJj66wpIlUwo"
      },
      "outputs": [],
      "source": [
        "#Shape, Rank, Axis, Size\n",
        "r4t=tf.zeros(shape=(2,3,4,5))"
      ]
    },
    {
      "cell_type": "code",
      "execution_count": null,
      "metadata": {
        "colab": {
          "base_uri": "https://localhost:8080/"
        },
        "id": "33HKh8E3m1IT",
        "outputId": "b2ead22a-0273-424b-fa39-4178d27a38f1"
      },
      "outputs": [
        {
          "data": {
            "text/plain": [
              "(4, TensorShape([2, 3, 4, 5]), <tf.Tensor: shape=(), dtype=int32, numpy=120>)"
            ]
          },
          "execution_count": 28,
          "metadata": {},
          "output_type": "execute_result"
        }
      ],
      "source": [
        "#r4t\n",
        "r4t.ndim,r4t.shape, tf.size(r4t)"
      ]
    },
    {
      "cell_type": "code",
      "execution_count": null,
      "metadata": {
        "colab": {
          "base_uri": "https://localhost:8080/"
        },
        "id": "F-AQY7Wcm3Vt",
        "outputId": "883ea925-03cc-434b-8814-855cd90d9177"
      },
      "outputs": [
        {
          "name": "stdout",
          "output_type": "stream",
          "text": [
            "Datatype... = <dtype: 'float32'>\n",
            "Datatype... =  <dtype: 'float32'>\n"
          ]
        }
      ],
      "source": [
        "print(f\"Datatype... = {r4t.dtype}\" )\n",
        "print(\"Datatype... = \",r4t.dtype )"
      ]
    },
    {
      "cell_type": "code",
      "execution_count": null,
      "metadata": {
        "colab": {
          "base_uri": "https://localhost:8080/"
        },
        "id": "ZqiBZ5d_np46",
        "outputId": "19aaf9f3-4bcf-4ed4-974b-36fe4c0fc3cf"
      },
      "outputs": [
        {
          "data": {
            "text/plain": [
              "<tf.Tensor: shape=(2, 2, 2, 2), dtype=float32, numpy=\n",
              "array([[[[0., 0.],\n",
              "         [0., 0.]],\n",
              "\n",
              "        [[0., 0.],\n",
              "         [0., 0.]]],\n",
              "\n",
              "\n",
              "       [[[0., 0.],\n",
              "         [0., 0.]],\n",
              "\n",
              "        [[0., 0.],\n",
              "         [0., 0.]]]], dtype=float32)>"
            ]
          },
          "execution_count": 36,
          "metadata": {},
          "output_type": "execute_result"
        }
      ],
      "source": [
        "# somelist=[1,23,4,7]\n",
        "# print(somelist[:2])\n",
        "r4t[:2,:2,:2,:2]"
      ]
    },
    {
      "cell_type": "code",
      "execution_count": null,
      "metadata": {
        "colab": {
          "base_uri": "https://localhost:8080/"
        },
        "id": "e1XCdqaireAW",
        "outputId": "93fbdb10-4630-4bc6-fb14-c13ee64d6138"
      },
      "outputs": [
        {
          "data": {
            "text/plain": [
              "<tf.Tensor: shape=(1, 1, 4, 1), dtype=float32, numpy=\n",
              "array([[[[0.],\n",
              "         [0.],\n",
              "         [0.],\n",
              "         [0.]]]], dtype=float32)>"
            ]
          },
          "execution_count": 38,
          "metadata": {},
          "output_type": "execute_result"
        }
      ],
      "source": [
        "r4t[:1,:1,:,:1]"
      ]
    },
    {
      "cell_type": "code",
      "execution_count": null,
      "metadata": {
        "colab": {
          "base_uri": "https://localhost:8080/"
        },
        "id": "yCQAQX7Ar46h",
        "outputId": "9835215d-6a74-4ffa-cea1-53f6e0ff39bb"
      },
      "outputs": [
        {
          "data": {
            "text/plain": [
              "<tf.Tensor: shape=(2, 2), dtype=int16, numpy=\n",
              "array([[10,  7],\n",
              "       [ 1,  3]], dtype=int16)>"
            ]
          },
          "execution_count": 5,
          "metadata": {},
          "output_type": "execute_result"
        }
      ],
      "source": [
        "#changing extra dimension \n",
        "import numpy as n\n",
        "r2t=tf.constant([[10,7],[1,3]],dtype=n.int16)\n",
        "r2t"
      ]
    },
    {
      "cell_type": "code",
      "execution_count": null,
      "metadata": {
        "colab": {
          "base_uri": "https://localhost:8080/"
        },
        "id": "6v32PnCcsI_G",
        "outputId": "e5aec2a6-fb35-4c0e-db36-7e7f55b4a2cb"
      },
      "outputs": [
        {
          "data": {
            "text/plain": [
              "<tf.Tensor: shape=(2,), dtype=int16, numpy=array([1, 3], dtype=int16)>"
            ]
          },
          "execution_count": 9,
          "metadata": {},
          "output_type": "execute_result"
        }
      ],
      "source": [
        "r2t.shape, r2t.ndim\n",
        "r2t[-1]"
      ]
    },
    {
      "cell_type": "code",
      "execution_count": null,
      "metadata": {
        "colab": {
          "base_uri": "https://localhost:8080/"
        },
        "id": "v6DSgj0Cn_gw",
        "outputId": "65fde566-accf-4de1-ba7b-45f8bb4f4de5"
      },
      "outputs": [
        {
          "data": {
            "text/plain": [
              "<tf.Tensor: shape=(2, 2, 1), dtype=int16, numpy=\n",
              "array([[[10],\n",
              "        [ 7]],\n",
              "\n",
              "       [[ 1],\n",
              "        [ 3]]], dtype=int16)>"
            ]
          },
          "execution_count": 13,
          "metadata": {},
          "output_type": "execute_result"
        }
      ],
      "source": [
        "#Add in extra dimen to our rank 2 tensor\n",
        "r3t=r2t[..., tf.newaxis]\n",
        "r3t\n",
        "#alternative --> tf.expand_dims(r2t,axis=-1) -->expanding final axis"
      ]
    },
    {
      "cell_type": "code",
      "execution_count": null,
      "metadata": {
        "colab": {
          "base_uri": "https://localhost:8080/"
        },
        "id": "rXeQmwhVo9Fv",
        "outputId": "697fc412-e25d-4749-bd60-2c357eaa038d"
      },
      "outputs": [
        {
          "data": {
            "text/plain": [
              "<tf.Tensor: shape=(1, 2, 2), dtype=int16, numpy=\n",
              "array([[[10,  7],\n",
              "        [ 1,  3]]], dtype=int16)>"
            ]
          },
          "execution_count": 14,
          "metadata": {},
          "output_type": "execute_result"
        }
      ],
      "source": [
        "tf.expand_dims(r2t,axis=0)"
      ]
    },
    {
      "cell_type": "code",
      "execution_count": null,
      "metadata": {
        "id": "0wT7kcMsrOMf"
      },
      "outputs": [],
      "source": []
    },
    {
      "cell_type": "markdown",
      "metadata": {
        "id": "jN6HKZoOrYNB"
      },
      "source": [
        "### Maniputlating Tensors "
      ]
    },
    {
      "cell_type": "code",
      "execution_count": null,
      "metadata": {
        "colab": {
          "base_uri": "https://localhost:8080/"
        },
        "id": "Xl1DzTk3re9p",
        "outputId": "c6b118be-5af3-4012-fe15-600cbacc4b7c"
      },
      "outputs": [
        {
          "data": {
            "text/plain": [
              "<tf.Tensor: shape=(2, 2), dtype=int32, numpy=\n",
              "array([[20, 17],\n",
              "       [13, 14]], dtype=int32)>"
            ]
          },
          "execution_count": 6,
          "metadata": {},
          "output_type": "execute_result"
        }
      ],
      "source": [
        "#Basic Operations \n",
        "ten=tf.constant([[10,7],[3,4]])\n",
        "ten + 10"
      ]
    },
    {
      "cell_type": "code",
      "execution_count": null,
      "metadata": {
        "colab": {
          "base_uri": "https://localhost:8080/"
        },
        "id": "7l40F3KfrkFK",
        "outputId": "1a082f3f-b70d-4fec-d529-00fc37b955f1"
      },
      "outputs": [
        {
          "data": {
            "text/plain": [
              "<tf.Tensor: shape=(2, 2), dtype=int32, numpy=\n",
              "array([[10,  7],\n",
              "       [ 3,  4]], dtype=int32)>"
            ]
          },
          "execution_count": 4,
          "metadata": {},
          "output_type": "execute_result"
        }
      ],
      "source": [
        "ten"
      ]
    },
    {
      "cell_type": "code",
      "execution_count": null,
      "metadata": {
        "id": "I6I5CroBtjIf"
      },
      "outputs": [],
      "source": [
        "ten=ten-10\n",
        "#Like this sub, Mul, div and arithmetic operations "
      ]
    },
    {
      "cell_type": "code",
      "execution_count": null,
      "metadata": {
        "colab": {
          "base_uri": "https://localhost:8080/"
        },
        "id": "RO7H8hPutmWR",
        "outputId": "934e1ece-9ec2-4f60-e561-3060d406f1de"
      },
      "outputs": [
        {
          "data": {
            "text/plain": [
              "<tf.Tensor: shape=(2, 2), dtype=int32, numpy=\n",
              "array([[100,  70],\n",
              "       [ 30,  40]], dtype=int32)>"
            ]
          },
          "execution_count": 23,
          "metadata": {},
          "output_type": "execute_result"
        }
      ],
      "source": [
        "#functions \n",
        "tf.multiply(ten ,10)"
      ]
    },
    {
      "cell_type": "code",
      "execution_count": null,
      "metadata": {
        "colab": {
          "base_uri": "https://localhost:8080/"
        },
        "id": "1Pfau5XhtnTS",
        "outputId": "f652623d-71d2-4fc1-b7df-c1384ffd8ee9"
      },
      "outputs": [
        {
          "data": {
            "text/plain": [
              "<tf.Tensor: shape=(2, 2), dtype=int32, numpy=\n",
              "array([[121,  98],\n",
              "       [ 42,  37]], dtype=int32)>"
            ]
          },
          "execution_count": 7,
          "metadata": {},
          "output_type": "execute_result"
        }
      ],
      "source": [
        "#Matrix Multiplication -->22/5/22\n",
        "tf.matmul(ten,ten)"
      ]
    },
    {
      "cell_type": "code",
      "execution_count": null,
      "metadata": {
        "colab": {
          "base_uri": "https://localhost:8080/"
        },
        "id": "_1khd5fWSoYn",
        "outputId": "6d15a6f2-6474-4032-b53d-36a175d22f3b"
      },
      "outputs": [
        {
          "data": {
            "text/plain": [
              "<tf.Tensor: shape=(2, 2), dtype=int32, numpy=\n",
              "array([[100,  49],\n",
              "       [  9,  16]], dtype=int32)>"
            ]
          },
          "execution_count": 5,
          "metadata": {},
          "output_type": "execute_result"
        }
      ],
      "source": [
        "ten*ten"
      ]
    },
    {
      "cell_type": "code",
      "execution_count": null,
      "metadata": {
        "colab": {
          "base_uri": "https://localhost:8080/"
        },
        "id": "WQdqmeH8TxTz",
        "outputId": "3bca71ff-64d9-42c5-f457-ac2e90308ad5"
      },
      "outputs": [
        {
          "data": {
            "text/plain": [
              "<tf.Tensor: shape=(2, 3), dtype=int32, numpy=\n",
              "array([[ 7,  8,  9],\n",
              "       [10, 11, 12]], dtype=int32)>"
            ]
          },
          "execution_count": 11,
          "metadata": {},
          "output_type": "execute_result"
        }
      ],
      "source": [
        "#ten @ ten\n",
        "x=tf.constant([[1,2],\n",
        "                   [3,4],\n",
        "                   [5,6]])\n",
        "y=tf.constant([[7,8],\n",
        "                   [9,10],\n",
        "                   [11,12]])\n",
        "tf.reshape(ten32_2,shape=(2,3))\n",
        "#tf.matmul(,ten32_2)"
      ]
    },
    {
      "cell_type": "code",
      "execution_count": null,
      "metadata": {
        "colab": {
          "base_uri": "https://localhost:8080/"
        },
        "id": "XTlfgGJ1UwBv",
        "outputId": "5974bdc6-f12d-46bb-bad7-3450ad6e3534"
      },
      "outputs": [
        {
          "data": {
            "text/plain": [
              "<tf.Tensor: shape=(3, 3), dtype=int32, numpy=\n",
              "array([[ 27,  30,  33],\n",
              "       [ 61,  68,  75],\n",
              "       [ 95, 106, 117]], dtype=int32)>"
            ]
          },
          "execution_count": 12,
          "metadata": {},
          "output_type": "execute_result"
        }
      ],
      "source": [
        "ten32_1 @ tf.reshape(ten32_2,shape=(2,3))"
      ]
    },
    {
      "cell_type": "code",
      "execution_count": null,
      "metadata": {
        "colab": {
          "base_uri": "https://localhost:8080/"
        },
        "id": "zgIQCesDbnqU",
        "outputId": "5651d728-bcbe-405f-94d3-acf4eaf41cb3"
      },
      "outputs": [
        {
          "data": {
            "text/plain": [
              "<tf.Tensor: shape=(2, 2), dtype=int32, numpy=\n",
              "array([[ 58,  64],\n",
              "       [139, 154]], dtype=int32)>"
            ]
          },
          "execution_count": 10,
          "metadata": {},
          "output_type": "execute_result"
        }
      ],
      "source": [
        "tf.matmul(tf.reshape(ten32_1, shape=(2,3)),ten32_2)"
      ]
    },
    {
      "cell_type": "code",
      "execution_count": null,
      "metadata": {
        "colab": {
          "base_uri": "https://localhost:8080/"
        },
        "id": "32Hj6_OScH_x",
        "outputId": "41a4467d-db85-4ebc-d1aa-443750f910c6"
      },
      "outputs": [
        {
          "data": {
            "text/plain": [
              "(<tf.Tensor: shape=(3, 2), dtype=int32, numpy=\n",
              " array([[1, 2],\n",
              "        [3, 4],\n",
              "        [5, 6]], dtype=int32)>, <tf.Tensor: shape=(2, 3), dtype=int32, numpy=\n",
              " array([[1, 3, 5],\n",
              "        [2, 4, 6]], dtype=int32)>, <tf.Tensor: shape=(2, 3), dtype=int32, numpy=\n",
              " array([[1, 2, 3],\n",
              "        [4, 5, 6]], dtype=int32)>)"
            ]
          },
          "execution_count": 12,
          "metadata": {},
          "output_type": "execute_result"
        }
      ],
      "source": [
        "#above outputs are diff \n",
        "#transpose\n",
        "x,tf.transpose(x),tf.reshape(x,shape=(2,3))"
      ]
    },
    {
      "cell_type": "code",
      "execution_count": null,
      "metadata": {
        "colab": {
          "base_uri": "https://localhost:8080/"
        },
        "id": "WnSAeocKMdMn",
        "outputId": "ffc6c3a7-4c8a-4fc5-bd3f-b3b8ccf1dbcb"
      },
      "outputs": [
        {
          "data": {
            "text/plain": [
              "<tf.Tensor: shape=(2, 2), dtype=int32, numpy=\n",
              "array([[ 89,  98],\n",
              "       [116, 128]], dtype=int32)>"
            ]
          },
          "execution_count": 13,
          "metadata": {},
          "output_type": "execute_result"
        }
      ],
      "source": [
        "#Matmul with transpose\n",
        "tf.matmul(tf.transpose(x),y)"
      ]
    },
    {
      "cell_type": "markdown",
      "metadata": {
        "id": "kAEqAa1QN1w_"
      },
      "source": [
        "###THE DOT PRODUCT"
      ]
    },
    {
      "cell_type": "code",
      "execution_count": null,
      "metadata": {
        "colab": {
          "base_uri": "https://localhost:8080/"
        },
        "id": "2H7x3whZNpy8",
        "outputId": "9b6c448a-07d0-44b7-e3b9-67e1f2ab36da"
      },
      "outputs": [
        {
          "data": {
            "text/plain": [
              "<tf.Tensor: shape=(2, 2), dtype=int32, numpy=\n",
              "array([[ 89,  98],\n",
              "       [116, 128]], dtype=int32)>"
            ]
          },
          "execution_count": 17,
          "metadata": {},
          "output_type": "execute_result"
        }
      ],
      "source": [
        "tf.tensordot(tf.transpose(x),y,axes=1)"
      ]
    },
    {
      "cell_type": "code",
      "execution_count": null,
      "metadata": {
        "colab": {
          "base_uri": "https://localhost:8080/"
        },
        "id": "UNrbDYY-Odl3",
        "outputId": "3161f090-ba4e-40dd-c913-009cdee24f8e"
      },
      "outputs": [
        {
          "data": {
            "text/plain": [
              "<tf.Tensor: shape=(3, 3), dtype=int32, numpy=\n",
              "array([[ 27,  30,  33],\n",
              "       [ 61,  68,  75],\n",
              "       [ 95, 106, 117]], dtype=int32)>"
            ]
          },
          "execution_count": 18,
          "metadata": {},
          "output_type": "execute_result"
        }
      ],
      "source": [
        "tf.matmul(x,tf.reshape(y,shape=(2,3)))"
      ]
    },
    {
      "cell_type": "code",
      "execution_count": null,
      "metadata": {
        "colab": {
          "base_uri": "https://localhost:8080/"
        },
        "id": "UJCpqgEHPD5V",
        "outputId": "163b278f-98bd-49a4-ee08-0c0c4a8259b3"
      },
      "outputs": [
        {
          "name": "stdout",
          "output_type": "stream",
          "text": [
            "Normal y :\n",
            "tf.Tensor(\n",
            "[[ 7  8]\n",
            " [ 9 10]\n",
            " [11 12]], shape=(3, 2), dtype=int32) \n",
            "\n",
            "Y reshaped... to 2,3 : \n",
            "tf.Tensor(\n",
            "[[ 7  8  9]\n",
            " [10 11 12]], shape=(2, 3), dtype=int32) \n",
            "\n",
            "The y transpose is ...\n",
            "tf.Tensor(\n",
            "[[ 7  9 11]\n",
            " [ 8 10 12]], shape=(2, 3), dtype=int32)\n"
          ]
        }
      ],
      "source": [
        "print(\"Normal y :\")\n",
        "print(y,\"\\n\")\n",
        "print(\"Y reshaped... to 2,3 : \")\n",
        "print(tf.reshape(y,shape=(2,3)),\"\\n\")\n",
        "\n",
        "print(\"The y transpose is ...\")\n",
        "print(tf.transpose(y))"
      ]
    },
    {
      "cell_type": "code",
      "execution_count": null,
      "metadata": {
        "colab": {
          "base_uri": "https://localhost:8080/"
        },
        "id": "muFTIAjTPrVm",
        "outputId": "b5251ad1-947d-40e6-bddb-2930577bed41"
      },
      "outputs": [
        {
          "data": {
            "text/plain": [
              "(<tf.Tensor: shape=(3, 3), dtype=int32, numpy=\n",
              " array([[ 23,  29,  35],\n",
              "        [ 53,  67,  81],\n",
              "        [ 83, 105, 127]], dtype=int32)>,\n",
              " <tf.Tensor: shape=(2, 3), dtype=int32, numpy=\n",
              " array([[ 7,  9, 11],\n",
              "        [ 8, 10, 12]], dtype=int32)>)"
            ]
          },
          "execution_count": 21,
          "metadata": {},
          "output_type": "execute_result"
        }
      ],
      "source": [
        "x=tf.constant([[1,2],\n",
        "                   [3,4],\n",
        "                   [5,6]])\n",
        "y=tf.constant([[7,8],\n",
        "                   [9,10],\n",
        "                   [11,12]])\n",
        "tf.matmul(x,tf.transpose(y)), tf.transpose(y)"
      ]
    },
    {
      "cell_type": "code",
      "execution_count": null,
      "metadata": {
        "colab": {
          "base_uri": "https://localhost:8080/"
        },
        "id": "okFyRQDLR1sx",
        "outputId": "44ea8200-377a-458c-d3cc-6bde2cbb89ba"
      },
      "outputs": [
        {
          "name": "stdout",
          "output_type": "stream",
          "text": [
            "tf.Tensor(\n",
            "[[1 2]\n",
            " [3 4]\n",
            " [5 6]], shape=(3, 2), dtype=int32) =========== tf.Tensor(\n",
            "[[ 8 10 12]\n",
            " [ 7  9 11]], shape=(2, 3), dtype=int32)\n"
          ]
        },
        {
          "data": {
            "text/plain": [
              "(<tf.Tensor: shape=(3, 3), dtype=int32, numpy=\n",
              " array([[ 22,  28,  34],\n",
              "        [ 52,  66,  80],\n",
              "        [ 82, 104, 126]], dtype=int32)>, None)"
            ]
          },
          "execution_count": 25,
          "metadata": {},
          "output_type": "execute_result"
        }
      ],
      "source": [
        "y2=tf.constant([[ 8,  10, 12],\n",
        "        [ 7, 9, 11]])\n",
        "tf.matmul(x,y2), print(x,\"===========\",y2)"
      ]
    },
    {
      "cell_type": "code",
      "execution_count": null,
      "metadata": {
        "id": "2v0zmG11Sqc8"
      },
      "outputs": [],
      "source": [
        "#tf.cast"
      ]
    },
    {
      "cell_type": "code",
      "execution_count": null,
      "metadata": {
        "id": "t-q7SZGAb1HW"
      },
      "outputs": [],
      "source": []
    },
    {
      "cell_type": "markdown",
      "metadata": {
        "id": "6iou_fDQb1sF"
      },
      "source": [
        "### AggreGating Tensor "
      ]
    },
    {
      "cell_type": "code",
      "execution_count": null,
      "metadata": {
        "colab": {
          "base_uri": "https://localhost:8080/"
        },
        "id": "4zWqR0Deb45u",
        "outputId": "658acc80-465d-49b8-8d3a-ed200d337ab2"
      },
      "outputs": [
        {
          "data": {
            "text/plain": [
              "<tf.Tensor: shape=(2,), dtype=int32, numpy=array([-7, 10], dtype=int32)>"
            ]
          },
          "execution_count": 2,
          "metadata": {},
          "output_type": "execute_result"
        }
      ],
      "source": [
        "#Get absolute values \n",
        "D=tf.constant([-7,10])\n",
        "D"
      ]
    },
    {
      "cell_type": "code",
      "execution_count": null,
      "metadata": {
        "colab": {
          "base_uri": "https://localhost:8080/"
        },
        "id": "qeO6S01btvBP",
        "outputId": "57fa7adf-10a2-42d6-a29b-a2c2098de1bd"
      },
      "outputs": [
        {
          "data": {
            "text/plain": [
              "<tf.Tensor: shape=(2,), dtype=int32, numpy=array([ 7, 10], dtype=int32)>"
            ]
          },
          "execution_count": 30,
          "metadata": {},
          "output_type": "execute_result"
        }
      ],
      "source": [
        "tf.abs(D)"
      ]
    },
    {
      "cell_type": "code",
      "execution_count": null,
      "metadata": {
        "id": "yqWl4L8RuAOF"
      },
      "outputs": [],
      "source": [
        "# from tensorflow.python.ops.gen_array_ops import size\n",
        "# #get min, max, mean of a tensor , sum of a tensor \n",
        "# import numpy as n\n",
        "# rt=tf.constant(n.random.randint(0,100,size=50))\n",
        "# rt"
      ]
    },
    {
      "cell_type": "code",
      "execution_count": null,
      "metadata": {
        "colab": {
          "base_uri": "https://localhost:8080/"
        },
        "id": "94W5uusjutmR",
        "outputId": "1091d17e-f6c7-46bb-b23c-747821b126a0"
      },
      "outputs": [
        {
          "data": {
            "text/plain": [
              "(<tf.Tensor: shape=(), dtype=int32, numpy=50>, TensorShape([50]), 1)"
            ]
          },
          "execution_count": 33,
          "metadata": {},
          "output_type": "execute_result"
        }
      ],
      "source": [
        "tf.size(rt), rt.shape, rt.ndim"
      ]
    },
    {
      "cell_type": "code",
      "execution_count": null,
      "metadata": {
        "colab": {
          "base_uri": "https://localhost:8080/"
        },
        "id": "cNSm4IzXvF7d",
        "outputId": "15d5f401-8e06-46a5-a753-a7d0e0ba3551"
      },
      "outputs": [
        {
          "name": "stdout",
          "output_type": "stream",
          "text": [
            "tf.Tensor(1, shape=(), dtype=int64)\n",
            "tf.Tensor(2526, shape=(), dtype=int64)\n"
          ]
        }
      ],
      "source": [
        "print(tf.reduce_min(rt))\n",
        "print(tf.reduce_sum(rt))"
      ]
    },
    {
      "cell_type": "code",
      "execution_count": null,
      "metadata": {
        "colab": {
          "base_uri": "https://localhost:8080/"
        },
        "id": "A-sQNQyhvVes",
        "outputId": "fab5c0bc-792e-401b-c999-73381367208c"
      },
      "outputs": [
        {
          "data": {
            "text/plain": [
              "<tf.Tensor: shape=(), dtype=int64, numpy=851>"
            ]
          },
          "execution_count": 38,
          "metadata": {},
          "output_type": "execute_result"
        }
      ],
      "source": [
        "import tensorflow_probability as tfp\n",
        "tfp.stats.variance(rt)"
      ]
    },
    {
      "cell_type": "code",
      "execution_count": null,
      "metadata": {
        "colab": {
          "base_uri": "https://localhost:8080/"
        },
        "id": "hksX_iKxwcMd",
        "outputId": "a3f0f106-29de-4ff9-e5c1-1c72c2d1f443"
      },
      "outputs": [
        {
          "data": {
            "text/plain": [
              "<tf.Tensor: shape=(), dtype=float32, numpy=29.167953>"
            ]
          },
          "execution_count": 40,
          "metadata": {},
          "output_type": "execute_result"
        }
      ],
      "source": [
        "tfp.stats.stddev(tf.cast(rt , dtype=tf.float32))"
      ]
    },
    {
      "cell_type": "code",
      "execution_count": null,
      "metadata": {
        "colab": {
          "base_uri": "https://localhost:8080/"
        },
        "id": "4qd4V848x8jt",
        "outputId": "61bec2cb-6196-4ea1-cd9c-a80d7c73c9d0"
      },
      "outputs": [
        {
          "data": {
            "text/plain": [
              "<tf.Tensor: shape=(50,), dtype=float32, numpy=\n",
              "array([0.6645621 , 0.44100678, 0.3528825 , 0.46448255, 0.03366041,\n",
              "       0.68467236, 0.74011743, 0.8724445 , 0.22632635, 0.22319686,\n",
              "       0.3103881 , 0.7223358 , 0.13318717, 0.5480639 , 0.5746088 ,\n",
              "       0.8996835 , 0.00946367, 0.5212307 , 0.6345445 , 0.1993283 ,\n",
              "       0.72942245, 0.54583454, 0.10756552, 0.6767061 , 0.6602763 ,\n",
              "       0.33695042, 0.60141766, 0.21062577, 0.8527372 , 0.44062173,\n",
              "       0.9485276 , 0.23752594, 0.81179297, 0.5263394 , 0.494308  ,\n",
              "       0.21612847, 0.8457197 , 0.8718841 , 0.3083862 , 0.6868038 ,\n",
              "       0.23764038, 0.7817228 , 0.9671384 , 0.06870162, 0.79873943,\n",
              "       0.66028714, 0.5871513 , 0.16461694, 0.7381023 , 0.32054043],\n",
              "      dtype=float32)>"
            ]
          },
          "execution_count": 43,
          "metadata": {},
          "output_type": "execute_result"
        }
      ],
      "source": [
        "#pos max and min\n",
        "tf.random.set_seed(42)\n",
        "rt2=tf.random.uniform(shape=[50])\n",
        "rt2"
      ]
    },
    {
      "cell_type": "code",
      "execution_count": null,
      "metadata": {
        "colab": {
          "base_uri": "https://localhost:8080/"
        },
        "id": "OLhrTbM40u4e",
        "outputId": "d7a64b2b-f5a3-4d16-9e3f-7968e8b2717c"
      },
      "outputs": [
        {
          "data": {
            "text/plain": [
              "<tf.Tensor: shape=(), dtype=int64, numpy=42>"
            ]
          },
          "execution_count": 44,
          "metadata": {},
          "output_type": "execute_result"
        }
      ],
      "source": [
        "tf.argmax(rt2)"
      ]
    },
    {
      "cell_type": "code",
      "execution_count": null,
      "metadata": {
        "colab": {
          "base_uri": "https://localhost:8080/"
        },
        "id": "24BLC6cs03BZ",
        "outputId": "7bc5af23-15dc-42b2-d036-cde3ae01abb1"
      },
      "outputs": [
        {
          "data": {
            "text/plain": [
              "<tf.Tensor: shape=(), dtype=float32, numpy=0.9671384>"
            ]
          },
          "execution_count": 45,
          "metadata": {},
          "output_type": "execute_result"
        }
      ],
      "source": [
        "rt2[tf.argmax(rt2)]"
      ]
    },
    {
      "cell_type": "code",
      "execution_count": null,
      "metadata": {
        "colab": {
          "base_uri": "https://localhost:8080/"
        },
        "id": "bNQzuiuA1N2W",
        "outputId": "1068cc57-c9be-4239-b509-6e7197cc1f00"
      },
      "outputs": [
        {
          "data": {
            "text/plain": [
              "<tf.Tensor: shape=(), dtype=bool, numpy=True>"
            ]
          },
          "execution_count": 46,
          "metadata": {},
          "output_type": "execute_result"
        }
      ],
      "source": [
        "rt2[tf.argmax(rt2)]==tf.reduce_max(rt2)"
      ]
    },
    {
      "cell_type": "code",
      "execution_count": null,
      "metadata": {
        "colab": {
          "base_uri": "https://localhost:8080/"
        },
        "id": "hYC9utuZ1c3E",
        "outputId": "094e4aae-6b9b-4f5a-f131-fa01650095d9"
      },
      "outputs": [
        {
          "data": {
            "text/plain": [
              "<tf.Tensor: shape=(1, 1, 1, 1, 50), dtype=float32, numpy=\n",
              "array([[[[[0.6645621 , 0.44100678, 0.3528825 , 0.46448255, 0.03366041,\n",
              "           0.68467236, 0.74011743, 0.8724445 , 0.22632635, 0.22319686,\n",
              "           0.3103881 , 0.7223358 , 0.13318717, 0.5480639 , 0.5746088 ,\n",
              "           0.8996835 , 0.00946367, 0.5212307 , 0.6345445 , 0.1993283 ,\n",
              "           0.72942245, 0.54583454, 0.10756552, 0.6767061 , 0.6602763 ,\n",
              "           0.33695042, 0.60141766, 0.21062577, 0.8527372 , 0.44062173,\n",
              "           0.9485276 , 0.23752594, 0.81179297, 0.5263394 , 0.494308  ,\n",
              "           0.21612847, 0.8457197 , 0.8718841 , 0.3083862 , 0.6868038 ,\n",
              "           0.23764038, 0.7817228 , 0.9671384 , 0.06870162, 0.79873943,\n",
              "           0.66028714, 0.5871513 , 0.16461694, 0.7381023 , 0.32054043]]]]],\n",
              "      dtype=float32)>"
            ]
          },
          "execution_count": 48,
          "metadata": {},
          "output_type": "execute_result"
        }
      ],
      "source": [
        "#Squeezing a tensor \n",
        "tf.random.set_seed(42)\n",
        "G=tf.constant(tf.random.uniform(shape=[50]),shape=(1,1,1,1,50))\n",
        "G"
      ]
    },
    {
      "cell_type": "code",
      "execution_count": null,
      "metadata": {
        "colab": {
          "base_uri": "https://localhost:8080/"
        },
        "id": "Pmib-wmV22bE",
        "outputId": "ccbe8d79-41ff-498d-c6d3-fa3e1ea74719"
      },
      "outputs": [
        {
          "name": "stdout",
          "output_type": "stream",
          "text": [
            "(1, 1, 1, 1, 50)\n",
            "tf.Tensor(\n",
            "[0.6645621  0.44100678 0.3528825  0.46448255 0.03366041 0.68467236\n",
            " 0.74011743 0.8724445  0.22632635 0.22319686 0.3103881  0.7223358\n",
            " 0.13318717 0.5480639  0.5746088  0.8996835  0.00946367 0.5212307\n",
            " 0.6345445  0.1993283  0.72942245 0.54583454 0.10756552 0.6767061\n",
            " 0.6602763  0.33695042 0.60141766 0.21062577 0.8527372  0.44062173\n",
            " 0.9485276  0.23752594 0.81179297 0.5263394  0.494308   0.21612847\n",
            " 0.8457197  0.8718841  0.3083862  0.6868038  0.23764038 0.7817228\n",
            " 0.9671384  0.06870162 0.79873943 0.66028714 0.5871513  0.16461694\n",
            " 0.7381023  0.32054043], shape=(50,), dtype=float32)\n"
          ]
        }
      ],
      "source": [
        "print(G.shape)\n",
        "print(tf.squeeze(G))"
      ]
    },
    {
      "cell_type": "code",
      "execution_count": null,
      "metadata": {
        "colab": {
          "base_uri": "https://localhost:8080/"
        },
        "id": "nerfxLaD27Az",
        "outputId": "890028db-cb02-45d5-e38d-1a174b38e576"
      },
      "outputs": [
        {
          "data": {
            "text/plain": [
              "<tf.Tensor: shape=(4, 4), dtype=float32, numpy=\n",
              "array([[1., 0., 0., 0.],\n",
              "       [0., 1., 0., 0.],\n",
              "       [0., 0., 1., 0.],\n",
              "       [0., 0., 0., 1.]], dtype=float32)>"
            ]
          },
          "execution_count": 52,
          "metadata": {},
          "output_type": "execute_result"
        }
      ],
      "source": [
        "#One hot encodings\n",
        "sl=[0,1,2,3]\n",
        "tf.one_hot(sl,depth=4)"
      ]
    },
    {
      "cell_type": "code",
      "execution_count": null,
      "metadata": {
        "colab": {
          "base_uri": "https://localhost:8080/"
        },
        "id": "VF4lewrGABMZ",
        "outputId": "2665c56e-8d1a-4eef-f1c0-dccb59b585cb"
      },
      "outputs": [
        {
          "data": {
            "text/plain": [
              "<tf.Tensor: shape=(9,), dtype=int32, numpy=array([1, 2, 3, 4, 5, 6, 7, 8, 9], dtype=int32)>"
            ]
          },
          "execution_count": 3,
          "metadata": {},
          "output_type": "execute_result"
        }
      ],
      "source": [
        "#Squaring and logs \n",
        "H=tf.range(1,10)\n",
        "H"
      ]
    },
    {
      "cell_type": "code",
      "execution_count": null,
      "metadata": {
        "colab": {
          "base_uri": "https://localhost:8080/"
        },
        "id": "x2yugZoqCOYo",
        "outputId": "e1bf2386-cee9-4361-f8e4-2e30d5f98379"
      },
      "outputs": [
        {
          "data": {
            "text/plain": [
              "<tf.Tensor: shape=(9,), dtype=int32, numpy=array([ 1,  4,  9, 16, 25, 36, 49, 64, 81], dtype=int32)>"
            ]
          },
          "execution_count": 4,
          "metadata": {},
          "output_type": "execute_result"
        }
      ],
      "source": [
        "tf.square(H)"
      ]
    },
    {
      "cell_type": "code",
      "execution_count": null,
      "metadata": {
        "colab": {
          "base_uri": "https://localhost:8080/"
        },
        "id": "A-G6cimXCTqE",
        "outputId": "08a8ba95-8e6f-49d1-e438-6648359197e6"
      },
      "outputs": [
        {
          "data": {
            "text/plain": [
              "<tf.Tensor: shape=(9,), dtype=float32, numpy=\n",
              "array([0.99999994, 1.4142134 , 1.7320508 , 1.9999999 , 2.236068  ,\n",
              "       2.4494896 , 2.6457512 , 2.8284268 , 3.        ], dtype=float32)>"
            ]
          },
          "execution_count": 6,
          "metadata": {},
          "output_type": "execute_result"
        }
      ],
      "source": [
        "import numpy as n\n",
        "tf.sqrt(tf.cast(H,dtype=n.float32))"
      ]
    },
    {
      "cell_type": "markdown",
      "metadata": {
        "id": "fhQz9dJzDS4N"
      },
      "source": [
        "### Tensors and Numpy"
      ]
    },
    {
      "cell_type": "code",
      "execution_count": null,
      "metadata": {
        "colab": {
          "base_uri": "https://localhost:8080/"
        },
        "id": "FpW408ysDR8q",
        "outputId": "d29b5df1-4663-43b9-b35f-9a0b16576683"
      },
      "outputs": [
        {
          "data": {
            "text/plain": [
              "<tf.Tensor: shape=(3,), dtype=float32, numpy=array([ 2.,  6., 10.], dtype=float32)>"
            ]
          },
          "execution_count": 12,
          "metadata": {},
          "output_type": "execute_result"
        }
      ],
      "source": [
        "#create a tensor directly from numpy \n",
        "J=tf.constant(tf.cast(n.array([2.,6.,10.]),dtype=tf.float32))\n",
        "J"
      ]
    },
    {
      "cell_type": "code",
      "execution_count": null,
      "metadata": {
        "colab": {
          "base_uri": "https://localhost:8080/"
        },
        "id": "IBwY4vsED-1K",
        "outputId": "4cc506f5-dc1a-41e9-cada-8f7507e58311"
      },
      "outputs": [
        {
          "data": {
            "text/plain": [
              "(array([ 2.,  6., 10.], dtype=float32), numpy.ndarray)"
            ]
          },
          "execution_count": 13,
          "metadata": {},
          "output_type": "execute_result"
        }
      ],
      "source": [
        "n.array(J),type(n.array(J))"
      ]
    },
    {
      "cell_type": "code",
      "execution_count": null,
      "metadata": {
        "colab": {
          "base_uri": "https://localhost:8080/"
        },
        "id": "oObbUmjbEZjJ",
        "outputId": "e448ce31-6d27-49bc-e35f-56e4be6b77cd"
      },
      "outputs": [
        {
          "data": {
            "text/plain": [
              "numpy.ndarray"
            ]
          },
          "execution_count": 11,
          "metadata": {},
          "output_type": "execute_result"
        }
      ],
      "source": [
        "type(J.numpy())"
      ]
    },
    {
      "cell_type": "code",
      "execution_count": null,
      "metadata": {
        "colab": {
          "base_uri": "https://localhost:8080/"
        },
        "id": "YhYKnSofEgjR",
        "outputId": "809ee9d8-5b8a-4a8a-f388-e75f88decda5"
      },
      "outputs": [
        {
          "data": {
            "text/plain": [
              "<function tensorflow.python.framework.test_util.is_gpu_available>"
            ]
          },
          "execution_count": 1,
          "metadata": {},
          "output_type": "execute_result"
        }
      ],
      "source": [
        "#Finding GPU access\n",
        "import tensorflow as tf\n",
        "tf.test.is_gpu_available"
      ]
    },
    {
      "cell_type": "code",
      "execution_count": null,
      "metadata": {
        "colab": {
          "base_uri": "https://localhost:8080/"
        },
        "id": "8PTzjJtfGWN2",
        "outputId": "d351383a-c98d-4716-fe5e-12b0cb2a2b02"
      },
      "outputs": [
        {
          "data": {
            "text/plain": [
              "[PhysicalDevice(name='/physical_device:CPU:0', device_type='CPU'),\n",
              " PhysicalDevice(name='/physical_device:GPU:0', device_type='GPU')]"
            ]
          },
          "execution_count": 2,
          "metadata": {},
          "output_type": "execute_result"
        }
      ],
      "source": [
        "tf.config.list_physical_devices()"
      ]
    },
    {
      "cell_type": "code",
      "execution_count": null,
      "metadata": {
        "colab": {
          "base_uri": "https://localhost:8080/"
        },
        "id": "II0f1Ty4Ga0r",
        "outputId": "9c7651a8-edcd-4e10-d574-bcffcedadef7"
      },
      "outputs": [
        {
          "name": "stdout",
          "output_type": "stream",
          "text": [
            "Mon May 23 18:10:04 2022       \n",
            "+-----------------------------------------------------------------------------+\n",
            "| NVIDIA-SMI 460.32.03    Driver Version: 460.32.03    CUDA Version: 11.2     |\n",
            "|-------------------------------+----------------------+----------------------+\n",
            "| GPU  Name        Persistence-M| Bus-Id        Disp.A | Volatile Uncorr. ECC |\n",
            "| Fan  Temp  Perf  Pwr:Usage/Cap|         Memory-Usage | GPU-Util  Compute M. |\n",
            "|                               |                      |               MIG M. |\n",
            "|===============================+======================+======================|\n",
            "|   0  Tesla T4            Off  | 00000000:00:04.0 Off |                    0 |\n",
            "| N/A   36C    P8     9W /  70W |      3MiB / 15109MiB |      0%      Default |\n",
            "|                               |                      |                  N/A |\n",
            "+-------------------------------+----------------------+----------------------+\n",
            "                                                                               \n",
            "+-----------------------------------------------------------------------------+\n",
            "| Processes:                                                                  |\n",
            "|  GPU   GI   CI        PID   Type   Process name                  GPU Memory |\n",
            "|        ID   ID                                                   Usage      |\n",
            "|=============================================================================|\n",
            "|  No running processes found                                                 |\n",
            "+-----------------------------------------------------------------------------+\n"
          ]
        }
      ],
      "source": [
        "!nvidia-smi"
      ]
    },
    {
      "cell_type": "code",
      "execution_count": null,
      "metadata": {
        "id": "Q7-XpcBAHFPr"
      },
      "outputs": [],
      "source": [
        "#CUDA is the interface between code tensorflow and server \n"
      ]
    },
    {
      "cell_type": "code",
      "execution_count": null,
      "metadata": {
        "id": "apRnmnuxwXx4"
      },
      "outputs": [],
      "source": []
    },
    {
      "cell_type": "markdown",
      "metadata": {
        "id": "k6Mnn7JJwrtx"
      },
      "source": [
        "## PRACTICE QUESTIONS "
      ]
    },
    {
      "cell_type": "code",
      "execution_count": null,
      "metadata": {
        "colab": {
          "base_uri": "https://localhost:8080/"
        },
        "id": "V3hUrYziwvau",
        "outputId": "3509cfd8-29e7-49d5-e362-630114a44124"
      },
      "outputs": [
        {
          "name": "stdout",
          "output_type": "stream",
          "text": [
            "The scalar is --> 7\n",
            "The vector is -->[10  7]\n",
            "The matrix is -->[[10  7]\n",
            " [ 7 10]]\n"
          ]
        }
      ],
      "source": [
        "import tensorflow as tf\n",
        "print(f\"The scalar is --> {tf.constant(7)}\")\n",
        "print(f\"The vector is -->{tf.constant([10,7])}\")\n",
        "print(f\"The matrix is -->{tf.constant([[10,7],[7,10]])}\")"
      ]
    },
    {
      "cell_type": "code",
      "execution_count": null,
      "metadata": {
        "colab": {
          "base_uri": "https://localhost:8080/"
        },
        "id": "PT2jpAutx1Eg",
        "outputId": "ca27cd2e-8e66-4af5-b448-f3395fe61a67"
      },
      "outputs": [
        {
          "data": {
            "text/plain": [
              "(<tf.Tensor: shape=(0,), dtype=int32, numpy=array([], dtype=int32)>,\n",
              " <tf.Tensor: shape=(), dtype=int32, numpy=0>,\n",
              " <tf.Tensor: shape=(), dtype=int32, numpy=1>)"
            ]
          },
          "execution_count": 6,
          "metadata": {},
          "output_type": "execute_result"
        }
      ],
      "source": [
        "s=tf.constant(7)\n",
        "v=tf.constant([10,7])\n",
        "m=tf.constant([[10,7],[7,10]])\n",
        "tf.shape(s), tf.rank(s), tf.size(s)"
      ]
    },
    {
      "cell_type": "code",
      "execution_count": null,
      "metadata": {
        "id": "ThpEkj9iyetf"
      },
      "outputs": [],
      "source": [
        "#import numpy as n\n",
        "ten1=tf.random.uniform(shape=(5,300))\n",
        "ten1\n",
        "ten2=tf.random.uniform(shape=(5,300))"
      ]
    },
    {
      "cell_type": "code",
      "execution_count": null,
      "metadata": {
        "colab": {
          "base_uri": "https://localhost:8080/"
        },
        "id": "_PqQ1O-lzqbo",
        "outputId": "e3a7a031-1c00-46a6-f20e-fc0096b20ba3"
      },
      "outputs": [
        {
          "data": {
            "text/plain": [
              "<tf.Tensor: shape=(5, 5), dtype=float32, numpy=\n",
              "array([[80.95199 , 82.11325 , 73.95156 , 74.79049 , 74.587326],\n",
              "       [71.51189 , 76.42964 , 67.84483 , 69.590744, 71.47393 ],\n",
              "       [75.86295 , 81.40393 , 70.31673 , 72.560905, 74.71447 ],\n",
              "       [75.02542 , 78.53784 , 69.99597 , 69.07254 , 72.829666],\n",
              "       [78.7571  , 81.197296, 72.62836 , 71.307625, 73.110466]],\n",
              "      dtype=float32)>"
            ]
          },
          "execution_count": 13,
          "metadata": {},
          "output_type": "execute_result"
        }
      ],
      "source": [
        "ten1x2 = ten1 @ tf.transpose(ten2) \n",
        "ten1x2\n",
        "#Also ten1x2=tf.matmul(ten1, tf.transpose())"
      ]
    },
    {
      "cell_type": "code",
      "execution_count": null,
      "metadata": {
        "colab": {
          "base_uri": "https://localhost:8080/"
        },
        "id": "igzDbovb04pO",
        "outputId": "19c194f9-5a18-4a92-f712-892c2a503b7b"
      },
      "outputs": [
        {
          "data": {
            "text/plain": [
              "<tf.Tensor: shape=(300, 300), dtype=float32, numpy=\n",
              "array([[0.94991285, 1.6380614 , 0.7567318 , ..., 1.064566  , 1.1853737 ,\n",
              "        1.1344318 ],\n",
              "       [1.270238  , 1.6421738 , 0.946968  , ..., 1.7710956 , 1.6824267 ,\n",
              "        1.5979708 ],\n",
              "       [1.1901338 , 1.8228705 , 0.9690808 , ..., 1.301645  , 1.3418463 ,\n",
              "        1.582002  ],\n",
              "       ...,\n",
              "       [1.3781058 , 2.0923822 , 1.074112  , ..., 1.1462023 , 1.3693014 ,\n",
              "        1.6192343 ],\n",
              "       [1.1299608 , 1.5188264 , 0.75485516, ..., 1.4783139 , 1.366429  ,\n",
              "        1.5069255 ],\n",
              "       [0.9517712 , 1.2318205 , 0.8588178 , ..., 1.3497803 , 1.4436392 ,\n",
              "        0.95209265]], dtype=float32)>"
            ]
          },
          "execution_count": 14,
          "metadata": {},
          "output_type": "execute_result"
        }
      ],
      "source": [
        "import tensorflow_probability as tfp\n",
        "ten12dot=tf.tensordot(tf.transpose(ten1),ten2,axes=1)\n",
        "ten12dot"
      ]
    },
    {
      "cell_type": "code",
      "execution_count": null,
      "metadata": {
        "colab": {
          "base_uri": "https://localhost:8080/"
        },
        "id": "zGClLhz426vT",
        "outputId": "676ec787-a69e-4573-dc99-6c595a382da6"
      },
      "outputs": [
        {
          "data": {
            "text/plain": [
              "<tf.Tensor: shape=(224, 224, 3), dtype=float32, numpy=\n",
              "array([[[0.00757432, 0.03898835, 0.84129107],\n",
              "        [0.71079576, 0.2973081 , 0.02728081],\n",
              "        [0.17114365, 0.5061023 , 0.8026166 ],\n",
              "        ...,\n",
              "        [0.29506457, 0.38910902, 0.50599897],\n",
              "        [0.10109484, 0.02711725, 0.029284  ],\n",
              "        [0.06140196, 0.07545626, 0.9020214 ]],\n",
              "\n",
              "       [[0.02471066, 0.9146466 , 0.08117902],\n",
              "        [0.75015485, 0.7955394 , 0.7690494 ],\n",
              "        [0.9069294 , 0.30945432, 0.54707587],\n",
              "        ...,\n",
              "        [0.80050564, 0.35932755, 0.33695114],\n",
              "        [0.08285773, 0.742864  , 0.06846833],\n",
              "        [0.16797459, 0.29275596, 0.28468895]],\n",
              "\n",
              "       [[0.54471886, 0.39191496, 0.21666443],\n",
              "        [0.70743   , 0.44767737, 0.90934825],\n",
              "        [0.5175557 , 0.61201787, 0.01424479],\n",
              "        ...,\n",
              "        [0.6418102 , 0.756091  , 0.31798828],\n",
              "        [0.5613377 , 0.18644857, 0.3481238 ],\n",
              "        [0.47293317, 0.74486685, 0.7975135 ]],\n",
              "\n",
              "       ...,\n",
              "\n",
              "       [[0.25313497, 0.18045592, 0.11241508],\n",
              "        [0.14687657, 0.0908035 , 0.06475329],\n",
              "        [0.156654  , 0.2533821 , 0.8376479 ],\n",
              "        ...,\n",
              "        [0.06945014, 0.9539803 , 0.92313385],\n",
              "        [0.45498288, 0.9052981 , 0.09937   ],\n",
              "        [0.76196826, 0.71083426, 0.40497565]],\n",
              "\n",
              "       [[0.2078414 , 0.06966138, 0.6122079 ],\n",
              "        [0.43494296, 0.11516261, 0.82828474],\n",
              "        [0.82894313, 0.45701504, 0.785352  ],\n",
              "        ...,\n",
              "        [0.32343066, 0.3127042 , 0.9902531 ],\n",
              "        [0.46338427, 0.3845973 , 0.5536486 ],\n",
              "        [0.6433418 , 0.22477865, 0.2904495 ]],\n",
              "\n",
              "       [[0.736513  , 0.10411882, 0.9839896 ],\n",
              "        [0.02726853, 0.02290332, 0.04050112],\n",
              "        [0.81583965, 0.13418388, 0.7809645 ],\n",
              "        ...,\n",
              "        [0.7939992 , 0.44033337, 0.32599783],\n",
              "        [0.549811  , 0.8120092 , 0.8231101 ],\n",
              "        [0.5711597 , 0.08350289, 0.5227246 ]]], dtype=float32)>"
            ]
          },
          "execution_count": 17,
          "metadata": {},
          "output_type": "execute_result"
        }
      ],
      "source": [
        "ten6=tf.random.uniform(shape=(224,224,3),minval=0,maxval=1)\n",
        "ten6"
      ]
    },
    {
      "cell_type": "code",
      "execution_count": null,
      "metadata": {
        "colab": {
          "base_uri": "https://localhost:8080/"
        },
        "id": "jomlNcZB7qxl",
        "outputId": "8890206c-5382-4827-f821-a6c2ceab4e8c"
      },
      "outputs": [
        {
          "data": {
            "text/plain": [
              "<tf.Tensor: shape=(), dtype=float32, numpy=2.503395e-06>"
            ]
          },
          "execution_count": 18,
          "metadata": {},
          "output_type": "execute_result"
        }
      ],
      "source": [
        "tf.reduce_min(ten6)"
      ]
    },
    {
      "cell_type": "code",
      "execution_count": null,
      "metadata": {
        "colab": {
          "base_uri": "https://localhost:8080/"
        },
        "id": "aA2ExP6S87ae",
        "outputId": "d72615b8-d877-4adb-ca0f-98c99ee364aa"
      },
      "outputs": [
        {
          "data": {
            "text/plain": [
              "<tf.Tensor: shape=(), dtype=float32, numpy=0.99999666>"
            ]
          },
          "execution_count": 19,
          "metadata": {},
          "output_type": "execute_result"
        }
      ],
      "source": [
        "tf.reduce_max(ten6)"
      ]
    },
    {
      "cell_type": "code",
      "execution_count": null,
      "metadata": {
        "id": "bqeOoqyf9rP1"
      },
      "outputs": [],
      "source": [
        "ten8=tf.random.uniform(shape=(1,224,224,3))"
      ]
    },
    {
      "cell_type": "code",
      "execution_count": null,
      "metadata": {
        "colab": {
          "base_uri": "https://localhost:8080/"
        },
        "id": "alEc8n0B93Gk",
        "outputId": "7619d940-638a-4119-d39d-b322de2555aa"
      },
      "outputs": [
        {
          "data": {
            "text/plain": [
              "<tf.Tensor: shape=(224, 224, 3), dtype=float32, numpy=\n",
              "array([[[0.91267335, 0.06405628, 0.6914836 ],\n",
              "        [0.25482905, 0.8028041 , 0.6411874 ],\n",
              "        [0.40771306, 0.82360697, 0.7687917 ],\n",
              "        ...,\n",
              "        [0.402861  , 0.43657959, 0.19284427],\n",
              "        [0.41895044, 0.24705684, 0.21858335],\n",
              "        [0.57417667, 0.0039345 , 0.86314857]],\n",
              "\n",
              "       [[0.20677161, 0.8968768 , 0.01781416],\n",
              "        [0.34694326, 0.33241236, 0.8343221 ],\n",
              "        [0.95851755, 0.9365635 , 0.2758509 ],\n",
              "        ...,\n",
              "        [0.58148396, 0.5353887 , 0.6328701 ],\n",
              "        [0.7864964 , 0.8252971 , 0.36028266],\n",
              "        [0.67264307, 0.81794703, 0.29568124]],\n",
              "\n",
              "       [[0.3267033 , 0.44865155, 0.90847266],\n",
              "        [0.89656687, 0.6636957 , 0.2243743 ],\n",
              "        [0.11902058, 0.39717567, 0.5926701 ],\n",
              "        ...,\n",
              "        [0.9707291 , 0.94070673, 0.36112893],\n",
              "        [0.16518676, 0.53944814, 0.10094142],\n",
              "        [0.78863835, 0.40960264, 0.1890173 ]],\n",
              "\n",
              "       ...,\n",
              "\n",
              "       [[0.04324865, 0.28476107, 0.54180586],\n",
              "        [0.92076457, 0.69216347, 0.01283705],\n",
              "        [0.9409851 , 0.8463248 , 0.63826287],\n",
              "        ...,\n",
              "        [0.5210854 , 0.5409533 , 0.4607159 ],\n",
              "        [0.02827203, 0.5869465 , 0.51761365],\n",
              "        [0.00519609, 0.03472424, 0.5851656 ]],\n",
              "\n",
              "       [[0.8393742 , 0.84590006, 0.96651447],\n",
              "        [0.11743677, 0.3728925 , 0.7705413 ],\n",
              "        [0.54554605, 0.15709376, 0.06558621],\n",
              "        ...,\n",
              "        [0.594614  , 0.8437228 , 0.5504694 ],\n",
              "        [0.83768916, 0.6133344 , 0.6691227 ],\n",
              "        [0.24358606, 0.8743924 , 0.49977088]],\n",
              "\n",
              "       [[0.46867287, 0.39116538, 0.55119216],\n",
              "        [0.9608153 , 0.18837857, 0.19218194],\n",
              "        [0.4300114 , 0.1887548 , 0.00730956],\n",
              "        ...,\n",
              "        [0.06031978, 0.04589486, 0.83440244],\n",
              "        [0.69201255, 0.6676204 , 0.3036617 ],\n",
              "        [0.95989466, 0.6494851 , 0.9536749 ]]], dtype=float32)>"
            ]
          },
          "execution_count": 24,
          "metadata": {},
          "output_type": "execute_result"
        }
      ],
      "source": [
        "ten9=tf.squeeze(ten8)\n",
        "ten9"
      ]
    },
    {
      "cell_type": "code",
      "execution_count": null,
      "metadata": {
        "colab": {
          "base_uri": "https://localhost:8080/"
        },
        "id": "bUWP4m-I-CFR",
        "outputId": "7f320e46-e634-40a2-d874-7400b01f6bfe"
      },
      "outputs": [
        {
          "data": {
            "text/plain": [
              "<tf.Tensor: shape=(), dtype=int64, numpy=4>"
            ]
          },
          "execution_count": 30,
          "metadata": {},
          "output_type": "execute_result"
        }
      ],
      "source": [
        "ten10=tf.constant([3,1,2,99,100,8,3,0,6,50],shape=[10])\n",
        "tf.argmax(ten10)"
      ]
    },
    {
      "cell_type": "code",
      "execution_count": null,
      "metadata": {
        "colab": {
          "base_uri": "https://localhost:8080/"
        },
        "id": "OdS8ofs-AOAv",
        "outputId": "7ef0aa5b-11de-4bec-df7e-bcdca1b05b86"
      },
      "outputs": [
        {
          "data": {
            "text/plain": [
              "<tf.Tensor: shape=(10, 10), dtype=float32, numpy=\n",
              "array([[0., 0., 0., 1., 0., 0., 0., 0., 0., 0.],\n",
              "       [0., 1., 0., 0., 0., 0., 0., 0., 0., 0.],\n",
              "       [0., 0., 1., 0., 0., 0., 0., 0., 0., 0.],\n",
              "       [0., 0., 0., 0., 0., 0., 0., 0., 0., 0.],\n",
              "       [0., 0., 0., 0., 0., 0., 0., 0., 0., 0.],\n",
              "       [0., 0., 0., 0., 0., 0., 0., 0., 1., 0.],\n",
              "       [0., 0., 0., 1., 0., 0., 0., 0., 0., 0.],\n",
              "       [1., 0., 0., 0., 0., 0., 0., 0., 0., 0.],\n",
              "       [0., 0., 0., 0., 0., 0., 1., 0., 0., 0.],\n",
              "       [0., 0., 0., 0., 0., 0., 0., 0., 0., 0.]], dtype=float32)>"
            ]
          },
          "execution_count": 33,
          "metadata": {},
          "output_type": "execute_result"
        }
      ],
      "source": [
        "tf.one_hot(ten10,depth=10)"
      ]
    },
    {
      "cell_type": "code",
      "execution_count": null,
      "metadata": {
        "id": "yAghV7MLBaHU"
      },
      "outputs": [],
      "source": []
    }
  ],
  "metadata": {
    "accelerator": "GPU",
    "colab": {
      "authorship_tag": "ABX9TyP1y41YPvAaoVJeDmYWdeQ1",
      "collapsed_sections": [
        "PabftFHDmjI2",
        "tdTcJXZn8Jom",
        "XI8qePgolNFq",
        "jN6HKZoOrYNB",
        "fhQz9dJzDS4N"
      ],
      "include_colab_link": true,
      "provenance": [],
      "toc_visible": true
    },
    "kernelspec": {
      "display_name": "base",
      "language": "python",
      "name": "python3"
    },
    "language_info": {
      "name": "python",
      "version": "3.9.12"
    },
    "vscode": {
      "interpreter": {
        "hash": "c1fb891362188f9409b699f058dc79843900a156b790e53474c1fc9f704f5b7e"
      }
    }
  },
  "nbformat": 4,
  "nbformat_minor": 0
}
